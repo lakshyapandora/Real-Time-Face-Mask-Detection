{
 "cells": [
  {
   "cell_type": "code",
   "execution_count": 1,
   "metadata": {},
   "outputs": [
    {
     "name": "stdout",
     "output_type": "stream",
     "text": [
      "{'without_mask': 0, 'with_mask': 1}\n",
      "['without_mask', 'with_mask']\n",
      "[0, 1]\n"
     ]
    }
   ],
   "source": [
    "import cv2,os\n",
    "\n",
    "data_path=r'C:\\Users\\lakshay\\Desktop\\MACHINE_LEARNIG_REEMERGING\\MASK DETECTION\\train'\n",
    "categories=os.listdir(data_path)\n",
    "labels=[i for i in range(len(categories))]\n",
    "\n",
    "label_dict=dict(zip(categories,labels)) #empty dictionary\n",
    "\n",
    "print(label_dict)\n",
    "print(categories)\n",
    "print(labels)"
   ]
  },
  {
   "cell_type": "code",
   "execution_count": 2,
   "metadata": {},
   "outputs": [],
   "source": [
    "img_size=100\n",
    "data=[]\n",
    "target=[]\n",
    "\n",
    "\n",
    "for category in categories:\n",
    "    folder_path=os.path.join(data_path,category)\n",
    "    #img_names=os.listdir(folder_path)\n",
    "    \n",
    "    for img_name in os.listdir(folder_path):\n",
    "        img_path=os.path.join(folder_path,img_name)\n",
    "        img=cv2.imread(img_path)\n",
    "\n",
    "        try:\n",
    "            gray=cv2.cvtColor(img,cv2.COLOR_BGR2GRAY)           \n",
    "            #Coverting the image into gray scale\n",
    "            resized=cv2.resize(gray,(img_size,img_size))\n",
    "            #resizing the gray scale into 50x50, since we need a fixed common size for all the images in the dataset\n",
    "            data.append(resized)\n",
    "            target.append(label_dict[category])\n",
    "            #appending the image and the label(categorized) into the list (dataset)\n",
    "\n",
    "        except Exception as e:\n",
    "            print('Exception:',e)\n",
    "            #if any exception rasied, the exception will be printed here. And pass to the next image\n",
    "            \n"
   ]
  },
  {
   "cell_type": "code",
   "execution_count": 3,
   "metadata": {},
   "outputs": [],
   "source": [
    "\n",
    "import numpy as np\n",
    "\n",
    "data=np.array(data)/255.0\n",
    "data=np.reshape(data,(data.shape[0],img_size,img_size,1))\n",
    "target=np.array(target)\n",
    "\n",
    "from keras.utils import np_utils\n",
    "\n",
    "new_target=np_utils.to_categorical(target)"
   ]
  },
  {
   "cell_type": "code",
   "execution_count": 5,
   "metadata": {},
   "outputs": [],
   "source": [
    "np.save('data',data)\n",
    "np.save('target',new_target)\n",
    "data=np.load('data.npy')\n",
    "target=np.load('target.npy')\n",
    "\n",
    "#loading the save numpy arrays in the previous code"
   ]
  },
  {
   "cell_type": "code",
   "execution_count": 6,
   "metadata": {},
   "outputs": [],
   "source": [
    "from keras.models import Sequential\n",
    "from keras.layers import Dense,Activation,Flatten,Dropout\n",
    "from keras.layers import Conv2D,MaxPooling2D\n",
    "from keras.callbacks import ModelCheckpoint\n",
    "\n",
    "model=Sequential()\n",
    "\n",
    "model.add(Conv2D(200,(3,3),input_shape=data.shape[1:],padding = 'same'))\n",
    "model.add(Activation('relu'))\n",
    "model.add(MaxPooling2D(pool_size=(2,2)))\n",
    "#The first CNN layer followed by Relu and MaxPooling layers\n",
    "\n",
    "model.add(Conv2D(100,(3,3),padding = 'same'))\n",
    "model.add(Activation('relu'))\n",
    "model.add(MaxPooling2D(pool_size=(2,2)))\n",
    "#The second convolution layer followed by Relu and MaxPooling layers\n",
    "\n",
    "model.add(Flatten())\n",
    "model.add(Dropout(0.5))\n",
    "#Flatten layer to stack the output convolutions from second convolution layer\n",
    "model.add(Dense(50,activation='relu'))\n",
    "#Dense layer of 64 neurons\n",
    "model.add(Dense(2,activation='softmax'))\n",
    "#The Final layer with two outputs for two categories\n",
    "\n",
    "model.compile(loss='categorical_crossentropy',optimizer='adam',metrics=['accuracy'])"
   ]
  },
  {
   "cell_type": "code",
   "execution_count": 7,
   "metadata": {},
   "outputs": [],
   "source": [
    "from sklearn.model_selection import train_test_split\n",
    "\n",
    "train_data,test_data,train_target,test_target=train_test_split(data,target,test_size=0.1)"
   ]
  },
  {
   "cell_type": "code",
   "execution_count": 8,
   "metadata": {},
   "outputs": [
    {
     "name": "stdout",
     "output_type": "stream",
     "text": [
      "Model: \"sequential\"\n",
      "_________________________________________________________________\n",
      "Layer (type)                 Output Shape              Param #   \n",
      "=================================================================\n",
      "conv2d (Conv2D)              (None, 100, 100, 200)     2000      \n",
      "_________________________________________________________________\n",
      "activation (Activation)      (None, 100, 100, 200)     0         \n",
      "_________________________________________________________________\n",
      "max_pooling2d (MaxPooling2D) (None, 50, 50, 200)       0         \n",
      "_________________________________________________________________\n",
      "conv2d_1 (Conv2D)            (None, 50, 50, 100)       180100    \n",
      "_________________________________________________________________\n",
      "activation_1 (Activation)    (None, 50, 50, 100)       0         \n",
      "_________________________________________________________________\n",
      "max_pooling2d_1 (MaxPooling2 (None, 25, 25, 100)       0         \n",
      "_________________________________________________________________\n",
      "flatten (Flatten)            (None, 62500)             0         \n",
      "_________________________________________________________________\n",
      "dropout (Dropout)            (None, 62500)             0         \n",
      "_________________________________________________________________\n",
      "dense (Dense)                (None, 50)                3125050   \n",
      "_________________________________________________________________\n",
      "dense_1 (Dense)              (None, 2)                 102       \n",
      "=================================================================\n",
      "Total params: 3,307,252\n",
      "Trainable params: 3,307,252\n",
      "Non-trainable params: 0\n",
      "_________________________________________________________________\n"
     ]
    }
   ],
   "source": [
    "model.summary()"
   ]
  },
  {
   "cell_type": "code",
   "execution_count": 10,
   "metadata": {},
   "outputs": [
    {
     "name": "stdout",
     "output_type": "stream",
     "text": [
      "Epoch 1/4\n",
      "29/29 [==============================] - 39s 1s/step - loss: 0.6058 - accuracy: 0.6814 - val_loss: 0.5258 - val_accuracy: 0.7832\n",
      "INFO:tensorflow:Assets written to: model-001.model\\assets\n",
      "Epoch 2/4\n",
      "29/29 [==============================] - 40s 1s/step - loss: 0.4473 - accuracy: 0.7976 - val_loss: 0.3396 - val_accuracy: 0.8850\n",
      "INFO:tensorflow:Assets written to: model-002.model\\assets\n",
      "Epoch 3/4\n",
      "29/29 [==============================] - 37s 1s/step - loss: 0.3192 - accuracy: 0.8827 - val_loss: 0.2558 - val_accuracy: 0.9115\n",
      "INFO:tensorflow:Assets written to: model-003.model\\assets\n",
      "Epoch 4/4\n",
      "29/29 [==============================] - 37s 1s/step - loss: 0.2611 - accuracy: 0.8971 - val_loss: 0.3361 - val_accuracy: 0.8496\n"
     ]
    }
   ],
   "source": [
    "checkpoint = ModelCheckpoint('model-{epoch:03d}.model',monitor='val_loss',verbose=0,save_best_only=True,mode='auto')\n",
    "history=model.fit(train_data,train_target,epochs=4,callbacks=[checkpoint],validation_split=0.2)"
   ]
  },
  {
   "cell_type": "code",
   "execution_count": null,
   "metadata": {},
   "outputs": [],
   "source": [
    "from matplotlib import pyplot as plt\n",
    "\n",
    "plt.plot(history.history['loss'],'r',label='training loss')\n",
    "plt.plot(history.history['val_loss'],label='validation loss')\n",
    "plt.xlabel('# epochs')\n",
    "plt.ylabel('loss')\n",
    "plt.legend()\n",
    "plt.show()"
   ]
  },
  {
   "cell_type": "code",
   "execution_count": null,
   "metadata": {},
   "outputs": [],
   "source": [
    "plt.plot(history.history['accuracy'],'r',label='training accuracy')\n",
    "plt.plot(history.history['val_accuracy'],label='validation accuracy')\n",
    "plt.xlabel('# epochs')\n",
    "plt.ylabel('loss')\n",
    "plt.legend()\n",
    "plt.show()\n"
   ]
  },
  {
   "cell_type": "code",
   "execution_count": 11,
   "metadata": {},
   "outputs": [
    {
     "name": "stdout",
     "output_type": "stream",
     "text": [
      "4/4 [==============================] - 1s 357ms/step - loss: 0.3588 - accuracy: 0.8413\n",
      "[0.35884177684783936, 0.841269850730896]\n"
     ]
    }
   ],
   "source": [
    "print(model.evaluate(test_data,test_target))"
   ]
  },
  {
   "cell_type": "code",
   "execution_count": 29,
   "metadata": {},
   "outputs": [],
   "source": [
    "# image detect krlo pehla\n",
    "import cv2 as cv\n",
    "\n",
    "img = cv.imread(r'C:\\Users\\lakshay\\Desktop\\MACHINE_LEARNIG_REEMERGING\\MASK DETECTION\\test\\with_mask\\35-with-mask.jpg')\n",
    "          "
   ]
  },
  {
   "cell_type": "code",
   "execution_count": 30,
   "metadata": {},
   "outputs": [
    {
     "data": {
      "text/plain": [
       "-1"
      ]
     },
     "execution_count": 30,
     "metadata": {},
     "output_type": "execute_result"
    }
   ],
   "source": [
    "results={0:'without mask',1:'mask'}\n",
    "img_size = 100\n",
    "GR_dict={0:(0,0,255),1:(0,255,0)}\n",
    "import cv2 as cv\n",
    "import numpy as np\n",
    "gray = cv.cvtColor(img,cv.COLOR_BGR2GRAY)\n",
    "\n",
    "haarcascade = cv.CascadeClassifier(cv.data.haarcascades + \"haarcascade_frontalface_default.xml\")\n",
    "faces = haarcascade.detectMultiScale(gray, scaleFactor=1.2, minNeighbors=1)\n",
    "\n",
    "for (x,y,w,h) in faces:\n",
    "    faces_roi = gray[y:y+h,x:x+w]\n",
    "    \n",
    "    resized=cv.resize(faces_roi,(img_size,img_size))\n",
    "    d=np.array(resized)/255.0\n",
    "    #print(d.shape)\n",
    "    #data=np.array(faces_roi)/255.0\n",
    "    #d.append(resized)\n",
    "    data=np.reshape(d,(1,img_size,img_size,1))\n",
    "    \n",
    "    result=model.predict(data)\n",
    "    \n",
    "    label=np.argmax(result)\n",
    "    \n",
    "    cv.rectangle(img,(x,y),(x+w,y+h),GR_dict[label],2)\n",
    "    cv.putText(img, results[label], (x, y-10),cv.FONT_HERSHEY_SIMPLEX,0.8,(255,255,255),2)\n",
    "cv.imshow(\"Detected Image\",img)\n",
    "cv.waitKey(0)\n",
    "    \n",
    "\n",
    "    #resized=cv2.resize(gray,(img_size,img_size))\n",
    "            #resizing the gray scale into 50x50, since we need a fixed common size for all the images in the dataset\n",
    "     \n",
    "    #data.append(resized)\n"
   ]
  },
  {
   "cell_type": "code",
   "execution_count": 3,
   "metadata": {},
   "outputs": [],
   "source": [
    "#im saving this model as results are quite good\n",
    "model.save('mask_project_new.h5')"
   ]
  },
  {
   "cell_type": "code",
   "execution_count": 2,
   "metadata": {},
   "outputs": [],
   "source": [
    "import tensorflow as tf\n",
    "\n",
    "model = tf.keras.models.load_model('mask_project_new.h5')"
   ]
  },
  {
   "cell_type": "code",
   "execution_count": 37,
   "metadata": {},
   "outputs": [
    {
     "data": {
      "text/plain": [
       "'C:\\\\Users\\\\lakshay'"
      ]
     },
     "execution_count": 37,
     "metadata": {},
     "output_type": "execute_result"
    }
   ],
   "source": [
    "os.getcwd()"
   ]
  },
  {
   "cell_type": "code",
   "execution_count": 6,
   "metadata": {},
   "outputs": [],
   "source": [
    "results={0:'without mask',1:'mask'}\n",
    "img_size = 100\n",
    "GR_dict={0:(0,0,255),1:(0,255,0)}\n",
    "import cv2 as cv\n",
    "import numpy as np\n",
    "capture = cv.VideoCapture(0)\n",
    "\n",
    "istrue=True\n",
    "\n",
    "while istrue:\n",
    "    \n",
    "    istrue,img = capture.read()\n",
    "    \n",
    "    if(istrue == False):\n",
    "        break\n",
    "    gray = cv.cvtColor(img,cv.COLOR_BGR2GRAY)\n",
    "\n",
    "    haarcascade = cv.CascadeClassifier(cv.data.haarcascades + \"haarcascade_frontalface_default.xml\")\n",
    "    faces = haarcascade.detectMultiScale(gray, scaleFactor=1.2, minNeighbors=5)\n",
    "\n",
    "    for (x,y,w,h) in faces:\n",
    "        faces_roi = gray[y:y+h,x:x+w]\n",
    "    \n",
    "        resized=cv.resize(faces_roi,(img_size,img_size))\n",
    "        d=np.array(resized)/255.0\n",
    "    #print(d.shape)\n",
    "    #data=np.array(faces_roi)/255.0\n",
    "    #d.append(resized)\n",
    "        data=np.reshape(d,(1,img_size,img_size,1))\n",
    "    \n",
    "        result=model.predict(data)\n",
    "    \n",
    "        label=np.argmax(result)\n",
    "    \n",
    "        cv.rectangle(img,(x,y),(x+w,y+h),GR_dict[label],2)\n",
    "        cv.putText(img, results[label], (x, y-10),cv.FONT_HERSHEY_SIMPLEX,0.8,(255,255,255),2)\n",
    "    cv.imshow(\"Detected Image\",img)\n",
    "    if(cv.waitKey(20) & 0xff == ord('d')):\n",
    "        break\n",
    "    \n",
    "capture.release()\n",
    "cv.destroyAllWindows()\n",
    "    #cv.imshow(\"Video\",frame)\n",
    "    \n",
    "    #gray = cv.cvtColor(img,cv.COLOR_BGR2GRAY)\n",
    "#cv.imshow(\"Gray\",gray)\n",
    "    #haar_cascade = cv.CascadeClassifier(cv.data.haarcascades + \"haarcascade_frontalface_default.xml\")\n",
    "#haar_cascade = cv.CascadeClassifier('')\n",
    "\n",
    "\n",
    "#faces_rect = haar_cascade.detectMultiScale(gray,scaleFactor = 0,minNeighbors = 0 )\n",
    "\n",
    "    #faces_rect = haar_cascade.detectMultiScale(gray, scaleFactor=1.2, minNeighbors=4);\n",
    "\n",
    "    #for x,y,w,h in faces_rect:\n",
    "        #cv.rectangle(img, (x,y),(x+w,y+h),(0,255,0),2)\n",
    "    \n",
    "    #cv.imshow(\"Detected faces\",img)\n",
    "    \n",
    "    #if(cv.waitKey(20) & 0xff == ord('d')):\n",
    "        #break\n",
    "        \n",
    "    \n"
   ]
  },
  {
   "cell_type": "code",
   "execution_count": null,
   "metadata": {},
   "outputs": [],
   "source": []
  },
  {
   "cell_type": "code",
   "execution_count": null,
   "metadata": {},
   "outputs": [],
   "source": []
  },
  {
   "cell_type": "code",
   "execution_count": null,
   "metadata": {},
   "outputs": [],
   "source": []
  }
 ],
 "metadata": {
  "kernelspec": {
   "display_name": "Python 3",
   "language": "python",
   "name": "python3"
  },
  "language_info": {
   "codemirror_mode": {
    "name": "ipython",
    "version": 3
   },
   "file_extension": ".py",
   "mimetype": "text/x-python",
   "name": "python",
   "nbconvert_exporter": "python",
   "pygments_lexer": "ipython3",
   "version": "3.8.5"
  }
 },
 "nbformat": 4,
 "nbformat_minor": 4
}
